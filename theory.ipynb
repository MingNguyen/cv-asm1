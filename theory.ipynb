{
 "cells": [
  {
   "cell_type": "code",
   "execution_count": 14,
   "metadata": {},
   "outputs": [],
   "source": [
    "import numpy as np"
   ]
  },
  {
   "cell_type": "code",
   "execution_count": 15,
   "metadata": {},
   "outputs": [],
   "source": [
    "#t1 is the coordinate of object to camera\n",
    "t1 = [[0, 1, 0, 1],\n",
    "      [1, 0, 0, 10],\n",
    "      [0, 0, -1, 9],\n",
    "      [0, 0, 0, 1]]\n",
    "\n",
    "#t2 is the coordinate of robot base to camera\n",
    "t2 = [[1, 0, 0, -10],\n",
    "      [0, -1, 0, 20],\n",
    "      [0, 0, -1, 10],\n",
    "      [0, 0, 0, 1]]\n",
    "\n",
    "#rotation matrix of 90 degree around z-axis of the camera\n",
    "Rz = [[0, -1, 0, 0],\n",
    "      [1, 0, 0, 0],\n",
    "      [0, 0, 1, 0],\n",
    "      [0, 0, 0, 1]]\n",
    "\n",
    "#rotation matrix of 90 degree around x-axis of the object\n",
    "Rx = [[1, 0, 0, 0],\n",
    "      [0, 0, -1, 0],\n",
    "      [0, 1, 0, 0],\n",
    "      [0, 0, 0, 1]]\n",
    "\n",
    "#translation matrix by 4 unit along the y axis\n",
    "T  = [[1, 0, 0, 0],\n",
    "      [0, 1, 0, 4],\n",
    "      [0, 0, 1, 0],\n",
    "      [0, 0, 0, 1]]"
   ]
  },
  {
   "attachments": {},
   "cell_type": "markdown",
   "metadata": {},
   "source": [
    "Question a): After the equipment has been setup and these coordinate systems have been established, someone rotated the camera 90 degree about the z axis of the camera. What is the position and orientation of the camera with respect to the robot’s base coordinate system?"
   ]
  },
  {
   "cell_type": "code",
   "execution_count": 16,
   "metadata": {},
   "outputs": [
    {
     "data": {
      "text/plain": [
       "array([[ 1.,  0.,  0., 10.],\n",
       "       [-0., -1., -0., 20.],\n",
       "       [-0., -0., -1., 10.],\n",
       "       [ 0.,  0.,  0.,  1.]])"
      ]
     },
     "execution_count": 16,
     "metadata": {},
     "output_type": "execute_result"
    }
   ],
   "source": [
    "#invert t2 to get the coordinate of the camera with respect to the robot base\n",
    "t2_invert = np.linalg.inv(t2)\n",
    "t2_invert"
   ]
  },
  {
   "cell_type": "code",
   "execution_count": 21,
   "metadata": {},
   "outputs": [
    {
     "name": "stdout",
     "output_type": "stream",
     "text": [
      "[ 0. -1.  0. 10.]\n",
      "[-1.  0.  0. 20.]\n",
      "[ 0.  0. -1. 10.]\n",
      "[0. 0. 0. 1.]\n"
     ]
    }
   ],
   "source": [
    "#the new position and orientation of the camera with respect to the robot base = t2_invert * Rz\n",
    "rot_cam_to_base = np.matmul(t2_invert,Rz)\n",
    "\n",
    "for r in rot_cam_to_base:\n",
    "    print(r)"
   ]
  },
  {
   "attachments": {},
   "cell_type": "markdown",
   "metadata": {},
   "source": [
    "Question b) After the rotation happened in a), the object is also rotated by 90 degree about the x axis of the object and translated by 4 units along the rotated y axis. What is the position and orientation of the object with respect to the robot’s base coordinate system? What is the position and orientation of the object with respect to the rotated camera coordinate system?"
   ]
  },
  {
   "cell_type": "code",
   "execution_count": 18,
   "metadata": {},
   "outputs": [
    {
     "data": {
      "text/plain": [
       "array([[ 0.,  0., -1., 11.],\n",
       "       [-1.,  0.,  0., 10.],\n",
       "       [ 0.,  1.,  0.,  5.],\n",
       "       [ 0.,  0.,  0.,  1.]])"
      ]
     },
     "execution_count": 18,
     "metadata": {},
     "output_type": "execute_result"
    }
   ],
   "source": [
    "#the position and orientation of the object with respect to the robot base after rotated\n",
    "obj_to_base = np.matmul(t2_invert,t1)\n",
    "rot_obj_to_base = np.matmul(obj_to_base,Rx)\n",
    "final_obj_to_base = np.matmul(rot_obj_to_base, T)\n",
    "final_obj_to_base"
   ]
  },
  {
   "cell_type": "code",
   "execution_count": 22,
   "metadata": {},
   "outputs": [
    {
     "data": {
      "text/plain": [
       "array([[ 0.,  0., -1., 21.],\n",
       "       [ 1.,  0.,  0., 10.],\n",
       "       [ 0., -1.,  0.,  5.],\n",
       "       [ 0.,  0.,  0.,  1.]])"
      ]
     },
     "execution_count": 22,
     "metadata": {},
     "output_type": "execute_result"
    }
   ],
   "source": [
    "#the position and orientation of the rotated object with respect to the rotated camera\n",
    "rot_obj_to_rot_cam = np.matmul(np.linalg.inv(t2), final_obj_to_base)\n",
    "rot_obj_to_rot_cam"
   ]
  }
 ],
 "metadata": {
  "kernelspec": {
   "display_name": "Python 3",
   "language": "python",
   "name": "python3"
  },
  "language_info": {
   "codemirror_mode": {
    "name": "ipython",
    "version": 3
   },
   "file_extension": ".py",
   "mimetype": "text/x-python",
   "name": "python",
   "nbconvert_exporter": "python",
   "pygments_lexer": "ipython3",
   "version": "3.9.6"
  },
  "orig_nbformat": 4
 },
 "nbformat": 4,
 "nbformat_minor": 2
}
